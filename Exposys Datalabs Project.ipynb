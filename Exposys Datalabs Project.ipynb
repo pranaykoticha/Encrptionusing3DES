{
 "cells": [
  {
   "cell_type": "code",
   "execution_count": 2,
   "id": "e5ff1ccf",
   "metadata": {},
   "outputs": [
    {
     "name": "stdout",
     "output_type": "stream",
     "text": [
      "Requirement already satisfied: pycryptodome in c:\\users\\admin\\anaconda3\\lib\\site-packages (3.18.0)\n",
      "Choose operation to be done:\n",
      "\t1- Encryption\n",
      "\t2- Decryption\n",
      "Your Choice: 2\n",
      "File path: C:\\Users\\Admin\\OneDrive\\Pictures\\Screenshots\\Screenshot 2023-07-26 111606.png\n",
      "TDES key: 12345\n",
      "Operation Done Successfully!\n"
     ]
    }
   ],
   "source": [
    "#This code helps for Encryption and Decryption of Image using Triple DES\n",
    "\n",
    "# Here we Install pycryptodome from terminal \n",
    "!pip install pycryptodome\n",
    "\n",
    "# Then import DES3 for Encryption and md5 for key\n",
    "from Crypto.Cipher import DES3\n",
    "from hashlib import md5\n",
    "\n",
    "# For selecting operation from given choice\n",
    "while True:\n",
    "    print('Choose operation to be done:\\n\\t1- Encryption\\n\\t2- Decryption')\n",
    "    operation = input('Your Choice: ')\n",
    "    if operation not in ['1', '2']:\n",
    "        break\n",
    "        \n",
    "    # Image / File Path for operation which has to be done\n",
    "    file_path = input('File path: ')\n",
    "    \n",
    "    # Key for performing Triple DES algorithm\n",
    "    key = input('TDES key: ')\n",
    "\n",
    "    # Encode given key to 16 byte ascii key with md5 operation\n",
    "    key_hash = md5(key.encode('ascii')).digest()\n",
    "\n",
    "    # Adjust key parity of generated Hash Key for Final Triple DES Key\n",
    "    tdes_key = DES3.adjust_key_parity(key_hash)\n",
    "    \n",
    "    #  Cipher with integration of Triple DES key, MODE_EAX for Confidentiality & Authentication\n",
    "    #  and nonce for generating random / pseudo random number which is used for authentication protocol\n",
    "    cipher = DES3.new(tdes_key, DES3.MODE_EAX, nonce=b'0')\n",
    "\n",
    "    # Open & read file from given path\n",
    "    with open(file_path, 'rb') as input_file:\n",
    "        file_bytes = input_file.read()\n",
    "        \n",
    "        if operation == '1':\n",
    "            # Perform Encryption operation\n",
    "            new_file_bytes = cipher.encrypt(file_bytes)\n",
    "        else:\n",
    "            # Perform Decryption operation\n",
    "            new_file_bytes = cipher.decrypt(file_bytes)\n",
    "    \n",
    "    # Write updated values in file from given path\n",
    "    with open(file_path, 'wb') as output_file:\n",
    "        output_file.write(new_file_bytes)\n",
    "        print('Operation Done Successfully!')\n",
    "        break\n",
    "        "
   ]
  },
  {
   "cell_type": "code",
   "execution_count": null,
   "id": "5f162a0c",
   "metadata": {},
   "outputs": [],
   "source": []
  }
 ],
 "metadata": {
  "kernelspec": {
   "display_name": "Python 3 (ipykernel)",
   "language": "python",
   "name": "python3"
  },
  "language_info": {
   "codemirror_mode": {
    "name": "ipython",
    "version": 3
   },
   "file_extension": ".py",
   "mimetype": "text/x-python",
   "name": "python",
   "nbconvert_exporter": "python",
   "pygments_lexer": "ipython3",
   "version": "3.9.7"
  }
 },
 "nbformat": 4,
 "nbformat_minor": 5
}
